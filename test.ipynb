{
  "cells": [
    {
      "metadata": {
        "trusted": true
      },
      "cell_type": "code",
      "source": "%%html\n<style>\n    textarea { font-family: monospace; }\n</style>",
      "execution_count": 5,
      "outputs": [
        {
          "output_type": "display_data",
          "data": {
            "text/html": "<style>\n    textarea { font-family: monospace; }\n</style>\n",
            "text/plain": "<IPython.core.display.HTML object>"
          },
          "metadata": {}
        }
      ]
    },
    {
      "metadata": {},
      "cell_type": "markdown",
      "source": "# Paste dot graph here"
    },
    {
      "metadata": {
        "trusted": true,
        "scrolled": true
      },
      "cell_type": "code",
      "source": "from ipywidgets import widgets, Layout\n\ninput = widgets.Textarea(layout=Layout(width='100%', height='250px'))\ninput",
      "execution_count": 4,
      "outputs": [
        {
          "output_type": "display_data",
          "data": {
            "application/vnd.jupyter.widget-view+json": {
              "model_id": "a69cc7fe2cc74a698ffef62898008d81",
              "version_minor": 0,
              "version_major": 2
            },
            "text/plain": "Textarea(value='', layout=Layout(height='250px', width='100%'))"
          },
          "metadata": {}
        }
      ]
    },
    {
      "metadata": {},
      "cell_type": "markdown",
      "source": "# Graphviz render"
    },
    {
      "metadata": {
        "trusted": true
      },
      "cell_type": "code",
      "source": "import graphviz\nfrom IPython.display import SVG\n\ngraph = graphviz.Source(input.value) \ndisplay(SVG(graph.pipe(format='svg')))",
      "execution_count": 8,
      "outputs": [
        {
          "output_type": "display_data",
          "data": {
            "text/plain": "<IPython.core.display.SVG object>",
            "image/svg+xml": "<svg height=\"260pt\" viewBox=\"0.00 0.00 576.00 260.10\" width=\"576pt\" xmlns=\"http://www.w3.org/2000/svg\" xmlns:xlink=\"http://www.w3.org/1999/xlink\">\n<g class=\"graph\" id=\"graph0\" transform=\"scale(0.792769 0.792769) rotate(0) translate(4 324.095)\">\n<title>finite_state_machine</title>\n<polygon fill=\"white\" points=\"-4,4 -4,-324.095 722.567,-324.095 722.567,4 -4,4\" stroke=\"none\"/>\n<!-- LR_0 -->\n<g class=\"node\" id=\"node1\"><title>LR_0</title>\n<ellipse cx=\"34.5473\" cy=\"-104.547\" fill=\"none\" rx=\"30.5892\" ry=\"30.5892\" stroke=\"black\"/>\n<ellipse cx=\"34.5473\" cy=\"-104.547\" fill=\"none\" rx=\"34.5946\" ry=\"34.5946\" stroke=\"black\"/>\n<text font-family=\"Times,serif\" font-size=\"14.00\" text-anchor=\"middle\" x=\"34.5473\" y=\"-100.847\">LR_0</text>\n</g>\n<!-- LR_2 -->\n<g class=\"node\" id=\"node5\"><title>LR_2</title>\n<ellipse cx=\"169.642\" cy=\"-143.547\" fill=\"none\" rx=\"30.5947\" ry=\"30.5947\" stroke=\"black\"/>\n<text font-family=\"Times,serif\" font-size=\"14.00\" text-anchor=\"middle\" x=\"169.642\" y=\"-139.847\">LR_2</text>\n</g>\n<!-- LR_0&#45;&gt;LR_2 -->\n<g class=\"edge\" id=\"edge1\"><title>LR_0-&gt;LR_2</title>\n<path d=\"M68.1059,-114.088C86.9347,-119.605 110.726,-126.576 130.437,-132.352\" fill=\"none\" stroke=\"black\"/>\n<polygon fill=\"black\" points=\"129.454,-135.711 140.035,-135.165 131.423,-128.994 129.454,-135.711\" stroke=\"black\"/>\n<text font-family=\"Times,serif\" font-size=\"14.00\" text-anchor=\"middle\" x=\"104.095\" y=\"-133.347\">SS(B)</text>\n</g>\n<!-- LR_1 -->\n<g class=\"node\" id=\"node6\"><title>LR_1</title>\n<ellipse cx=\"169.642\" cy=\"-54.5473\" fill=\"none\" rx=\"30.5947\" ry=\"30.5947\" stroke=\"black\"/>\n<text font-family=\"Times,serif\" font-size=\"14.00\" text-anchor=\"middle\" x=\"169.642\" y=\"-50.8473\">LR_1</text>\n</g>\n<!-- LR_0&#45;&gt;LR_1 -->\n<g class=\"edge\" id=\"edge2\"><title>LR_0-&gt;LR_1</title>\n<path d=\"M67.0888,-92.698C86.2465,-85.501 110.815,-76.2713 130.988,-68.6929\" fill=\"none\" stroke=\"black\"/>\n<polygon fill=\"black\" points=\"132.364,-71.9146 140.495,-65.1214 129.903,-65.3618 132.364,-71.9146\" stroke=\"black\"/>\n<text font-family=\"Times,serif\" font-size=\"14.00\" text-anchor=\"middle\" x=\"104.095\" y=\"-88.3473\">SS(S)</text>\n</g>\n<!-- LR_3 -->\n<g class=\"node\" id=\"node2\"><title>LR_3</title>\n<ellipse cx=\"313.736\" cy=\"-34.5473\" fill=\"none\" rx=\"30.5892\" ry=\"30.5892\" stroke=\"black\"/>\n<ellipse cx=\"313.736\" cy=\"-34.5473\" fill=\"none\" rx=\"34.5946\" ry=\"34.5946\" stroke=\"black\"/>\n<text font-family=\"Times,serif\" font-size=\"14.00\" text-anchor=\"middle\" x=\"313.736\" y=\"-30.8473\">LR_3</text>\n</g>\n<!-- LR_4 -->\n<g class=\"node\" id=\"node3\"><title>LR_4</title>\n<ellipse cx=\"313.736\" cy=\"-285.547\" fill=\"none\" rx=\"30.5892\" ry=\"30.5892\" stroke=\"black\"/>\n<ellipse cx=\"313.736\" cy=\"-285.547\" fill=\"none\" rx=\"34.5946\" ry=\"34.5946\" stroke=\"black\"/>\n<text font-family=\"Times,serif\" font-size=\"14.00\" text-anchor=\"middle\" x=\"313.736\" y=\"-281.847\">LR_4</text>\n</g>\n<!-- LR_8 -->\n<g class=\"node\" id=\"node4\"><title>LR_8</title>\n<ellipse cx=\"684.02\" cy=\"-149.547\" fill=\"none\" rx=\"30.5892\" ry=\"30.5892\" stroke=\"black\"/>\n<ellipse cx=\"684.02\" cy=\"-149.547\" fill=\"none\" rx=\"34.5946\" ry=\"34.5946\" stroke=\"black\"/>\n<text font-family=\"Times,serif\" font-size=\"14.00\" text-anchor=\"middle\" x=\"684.02\" y=\"-145.847\">LR_8</text>\n</g>\n<!-- LR_6 -->\n<g class=\"node\" id=\"node7\"><title>LR_6</title>\n<ellipse cx=\"313.736\" cy=\"-169.547\" fill=\"none\" rx=\"30.5947\" ry=\"30.5947\" stroke=\"black\"/>\n<text font-family=\"Times,serif\" font-size=\"14.00\" text-anchor=\"middle\" x=\"313.736\" y=\"-165.847\">LR_6</text>\n</g>\n<!-- LR_8&#45;&gt;LR_6 -->\n<g class=\"edge\" id=\"edge13\"><title>LR_8-&gt;LR_6</title>\n<path d=\"M650.006,-156.318C598.364,-166.162 495.267,-182.815 407.284,-178.547 389.957,-177.707 370.869,-175.986 354.552,-174.272\" fill=\"none\" stroke=\"black\"/>\n<polygon fill=\"black\" points=\"354.595,-170.756 344.276,-173.156 353.839,-177.715 354.595,-170.756\" stroke=\"black\"/>\n<text font-family=\"Times,serif\" font-size=\"14.00\" text-anchor=\"middle\" x=\"498.378\" y=\"-181.347\">S(b)</text>\n</g>\n<!-- LR_5 -->\n<g class=\"node\" id=\"node8\"><title>LR_5</title>\n<ellipse cx=\"437.831\" cy=\"-105.547\" fill=\"none\" rx=\"30.5947\" ry=\"30.5947\" stroke=\"black\"/>\n<text font-family=\"Times,serif\" font-size=\"14.00\" text-anchor=\"middle\" x=\"437.831\" y=\"-101.847\">LR_5</text>\n</g>\n<!-- LR_8&#45;&gt;LR_5 -->\n<g class=\"edge\" id=\"edge14\"><title>LR_8-&gt;LR_5</title>\n<path d=\"M649.552,-144.138C610.366,-137.718 543.544,-126.497 486.378,-115.547 483.582,-115.012 480.697,-114.444 477.795,-113.861\" fill=\"none\" stroke=\"black\"/>\n<polygon fill=\"black\" points=\"478.465,-110.425 467.966,-111.848 477.061,-117.283 478.465,-110.425\" stroke=\"black\"/>\n<text font-family=\"Times,serif\" font-size=\"14.00\" text-anchor=\"middle\" x=\"558.926\" y=\"-138.347\">S(a)</text>\n</g>\n<!-- LR_2&#45;&gt;LR_4 -->\n<g class=\"edge\" id=\"edge6\"><title>LR_2-&gt;LR_4</title>\n<path d=\"M191.915,-164.806C215.551,-188.427 253.958,-226.808 281.117,-253.949\" fill=\"none\" stroke=\"black\"/>\n<polygon fill=\"black\" points=\"278.91,-256.691 288.457,-261.284 283.858,-251.74 278.91,-256.691\" stroke=\"black\"/>\n<text font-family=\"Times,serif\" font-size=\"14.00\" text-anchor=\"middle\" x=\"239.689\" y=\"-234.347\">S(A)</text>\n</g>\n<!-- LR_2&#45;&gt;LR_6 -->\n<g class=\"edge\" id=\"edge4\"><title>LR_2-&gt;LR_6</title>\n<path d=\"M199.74,-148.872C220.958,-152.754 249.954,-158.06 273.26,-162.324\" fill=\"none\" stroke=\"black\"/>\n<polygon fill=\"black\" points=\"272.723,-165.784 283.189,-164.141 273.983,-158.898 272.723,-165.784\" stroke=\"black\"/>\n<text font-family=\"Times,serif\" font-size=\"14.00\" text-anchor=\"middle\" x=\"239.689\" y=\"-164.347\">SS(b)</text>\n</g>\n<!-- LR_2&#45;&gt;LR_5 -->\n<g class=\"edge\" id=\"edge5\"><title>LR_2-&gt;LR_5</title>\n<path d=\"M198.867,-134.306C220.577,-127.616 251.455,-118.996 279.189,-114.547 318.827,-108.189 364.703,-106.16 396.708,-105.588\" fill=\"none\" stroke=\"black\"/>\n<polygon fill=\"black\" points=\"397.05,-109.084 407.001,-105.446 396.953,-102.084 397.05,-109.084\" stroke=\"black\"/>\n<text font-family=\"Times,serif\" font-size=\"14.00\" text-anchor=\"middle\" x=\"313.736\" y=\"-118.347\">SS(a)</text>\n</g>\n<!-- LR_1&#45;&gt;LR_3 -->\n<g class=\"edge\" id=\"edge3\"><title>LR_1-&gt;LR_3</title>\n<path d=\"M200.084,-50.4033C220.104,-47.5854 246.93,-43.8097 269.381,-40.6496\" fill=\"none\" stroke=\"black\"/>\n<polygon fill=\"black\" points=\"269.934,-44.1064 279.349,-39.2467 268.958,-37.1747 269.934,-44.1064\" stroke=\"black\"/>\n<text font-family=\"Times,serif\" font-size=\"14.00\" text-anchor=\"middle\" x=\"239.689\" y=\"-51.3473\">S($end)</text>\n</g>\n<!-- LR_6&#45;&gt;LR_6 -->\n<g class=\"edge\" id=\"edge9\"><title>LR_6-&gt;LR_6</title>\n<path d=\"M301.783,-197.971C301.252,-208.96 305.236,-218.095 313.736,-218.095 319.447,-218.095 323.12,-213.971 324.754,-207.932\" fill=\"none\" stroke=\"black\"/>\n<polygon fill=\"black\" points=\"328.239,-208.254 325.69,-197.971 321.27,-207.6 328.239,-208.254\" stroke=\"black\"/>\n<text font-family=\"Times,serif\" font-size=\"14.00\" text-anchor=\"middle\" x=\"313.736\" y=\"-221.895\">S(b)</text>\n</g>\n<!-- LR_6&#45;&gt;LR_5 -->\n<g class=\"edge\" id=\"edge10\"><title>LR_6-&gt;LR_5</title>\n<path d=\"M341.229,-155.66C358.829,-146.435 382.141,-134.215 401.339,-124.152\" fill=\"none\" stroke=\"black\"/>\n<polygon fill=\"black\" points=\"403.158,-127.15 410.39,-119.407 399.908,-120.95 403.158,-127.15\" stroke=\"black\"/>\n<text font-family=\"Times,serif\" font-size=\"14.00\" text-anchor=\"middle\" x=\"377.784\" y=\"-145.347\">S(a)</text>\n</g>\n<!-- LR_5&#45;&gt;LR_5 -->\n<g class=\"edge\" id=\"edge8\"><title>LR_5-&gt;LR_5</title>\n<path d=\"M426.625,-133.971C426.127,-144.96 429.862,-154.095 437.831,-154.095 443.185,-154.095 446.628,-149.971 448.16,-143.932\" fill=\"none\" stroke=\"black\"/>\n<polygon fill=\"black\" points=\"451.646,-144.239 449.037,-133.971 444.673,-143.625 451.646,-144.239\" stroke=\"black\"/>\n<text font-family=\"Times,serif\" font-size=\"14.00\" text-anchor=\"middle\" x=\"437.831\" y=\"-157.895\">S(a)</text>\n</g>\n<!-- LR_7 -->\n<g class=\"node\" id=\"node9\"><title>LR_7</title>\n<ellipse cx=\"558.926\" cy=\"-82.5473\" fill=\"none\" rx=\"30.5947\" ry=\"30.5947\" stroke=\"black\"/>\n<text font-family=\"Times,serif\" font-size=\"14.00\" text-anchor=\"middle\" x=\"558.926\" y=\"-78.8473\">LR_7</text>\n</g>\n<!-- LR_5&#45;&gt;LR_7 -->\n<g class=\"edge\" id=\"edge7\"><title>LR_5-&gt;LR_7</title>\n<path d=\"M467.965,-99.9209C483.248,-96.9693 502.185,-93.3121 518.736,-90.1156\" fill=\"none\" stroke=\"black\"/>\n<polygon fill=\"black\" points=\"519.525,-93.5281 528.68,-88.1954 518.198,-86.6551 519.525,-93.5281\" stroke=\"black\"/>\n<text font-family=\"Times,serif\" font-size=\"14.00\" text-anchor=\"middle\" x=\"498.378\" y=\"-100.347\">S(b)</text>\n</g>\n<!-- LR_7&#45;&gt;LR_8 -->\n<g class=\"edge\" id=\"edge11\"><title>LR_7-&gt;LR_8</title>\n<path d=\"M586.51,-96.471C600.018,-103.595 616.664,-112.451 631.473,-120.547 635.752,-122.887 640.218,-125.357 644.655,-127.828\" fill=\"none\" stroke=\"black\"/>\n<polygon fill=\"black\" points=\"643.213,-131.032 653.649,-132.861 646.631,-124.924 643.213,-131.032\" stroke=\"black\"/>\n<text font-family=\"Times,serif\" font-size=\"14.00\" text-anchor=\"middle\" x=\"619.473\" y=\"-124.347\">S(b)</text>\n</g>\n<!-- LR_7&#45;&gt;LR_5 -->\n<g class=\"edge\" id=\"edge12\"><title>LR_7-&gt;LR_5</title>\n<path d=\"M529.598,-73.6132C516.261,-70.759 500.268,-69.3085 486.378,-73.5473 480.906,-75.2172 475.493,-77.7514 470.39,-80.6773\" fill=\"none\" stroke=\"black\"/>\n<polygon fill=\"black\" points=\"468.156,-77.9497 461.59,-86.2649 471.908,-83.859 468.156,-77.9497\" stroke=\"black\"/>\n<text font-family=\"Times,serif\" font-size=\"14.00\" text-anchor=\"middle\" x=\"498.378\" y=\"-77.3473\">S(a)</text>\n</g>\n</g>\n</svg>"
          },
          "metadata": {}
        }
      ]
    },
    {
      "metadata": {
        "trusted": true
      },
      "cell_type": "code",
      "source": "",
      "execution_count": null,
      "outputs": []
    }
  ],
  "metadata": {
    "kernelspec": {
      "name": "python36",
      "display_name": "Python 3.6",
      "language": "python"
    },
    "language_info": {
      "mimetype": "text/x-python",
      "nbconvert_exporter": "python",
      "name": "python",
      "pygments_lexer": "ipython3",
      "version": "3.6.6",
      "file_extension": ".py",
      "codemirror_mode": {
        "version": 3,
        "name": "ipython"
      }
    }
  },
  "nbformat": 4,
  "nbformat_minor": 2
}